{
 "cells": [
  {
   "cell_type": "markdown",
   "id": "f8b3bbec",
   "metadata": {},
   "source": [
    "## Análiss Casos COVID-19 en Colombia"
   ]
  },
  {
   "cell_type": "code",
   "execution_count": null,
   "id": "b600f4d7",
   "metadata": {},
   "outputs": [],
   "source": [
    "#Cargar los módulos mas comunes, con sus alias\n",
    "import numpy as np\n",
    "import pandas as pd\n",
    "\n",
    "import matplotlib.pyplot as plt\n",
    "%matplotlib inline"
   ]
  },
  {
   "cell_type": "code",
   "execution_count": null,
   "id": "dada0ea2",
   "metadata": {},
   "outputs": [],
   "source": [
    "#Descargar el CSV desde el datos.gov.co\n",
    "#!wget -O covid.csv 'https://www.datos.gov.co/resource/gt2j-8ykr.csv?$limit=1000'"
   ]
  },
  {
   "cell_type": "code",
   "execution_count": null,
   "id": "81651f88",
   "metadata": {},
   "outputs": [],
   "source": [
    "!wget -O covid.csv https://www.datos.gov.co/api/views/gt2j-8ykr/rows.csv?accessType=DOWNLOAD"
   ]
  },
  {
   "cell_type": "code",
   "execution_count": null,
   "id": "b39de708",
   "metadata": {},
   "outputs": [],
   "source": [
    "#covid = pd.read_csv(\"https://www.datos.gov.co/resource/gt2j-8ykr.csv\")"
   ]
  },
  {
   "cell_type": "code",
   "execution_count": null,
   "id": "b7459e99",
   "metadata": {},
   "outputs": [],
   "source": [
    "covid =pd.read_csv('covid.csv')"
   ]
  },
  {
   "cell_type": "code",
   "execution_count": null,
   "id": "b8e1b195",
   "metadata": {},
   "outputs": [],
   "source": [
    "covid.info()"
   ]
  },
  {
   "cell_type": "code",
   "execution_count": null,
   "id": "c313984c",
   "metadata": {},
   "outputs": [],
   "source": [
    "covid.columns"
   ]
  },
  {
   "cell_type": "code",
   "execution_count": null,
   "id": "554b0244",
   "metadata": {},
   "outputs": [],
   "source": [
    "covid.shape"
   ]
  },
  {
   "cell_type": "code",
   "execution_count": null,
   "id": "b2ebd0c2",
   "metadata": {},
   "outputs": [],
   "source": [
    "covid.head()"
   ]
  },
  {
   "cell_type": "code",
   "execution_count": null,
   "id": "b3d6fcfa",
   "metadata": {},
   "outputs": [],
   "source": [
    "covid.tail()"
   ]
  },
  {
   "cell_type": "code",
   "execution_count": null,
   "id": "9d19add2",
   "metadata": {},
   "outputs": [],
   "source": [
    "covid['Edad'].describe()"
   ]
  },
  {
   "cell_type": "code",
   "execution_count": null,
   "id": "e968c4d8",
   "metadata": {},
   "outputs": [],
   "source": [
    "covid.sort_values(by=['Nombre municipio', 'Sexo', 'Edad'], ascending=True)"
   ]
  },
  {
   "cell_type": "code",
   "execution_count": null,
   "id": "aa684ce4",
   "metadata": {},
   "outputs": [],
   "source": [
    "# Cuántas personas con sus edades , hay infectadas por municipio?\n",
    "c2 = covid[['Nombre municipio', 'Sexo', 'Edad']]\n",
    "c2.sort_values(by=['Sexo', 'Edad'], ascending = True)"
   ]
  },
  {
   "cell_type": "code",
   "execution_count": null,
   "id": "8e783859",
   "metadata": {},
   "outputs": [],
   "source": [
    "c2.groupby(['Nombre municipio'])[['Sexo']].describe()"
   ]
  },
  {
   "cell_type": "code",
   "execution_count": null,
   "id": "502a6633",
   "metadata": {},
   "outputs": [],
   "source": [
    "cd = covid.groupby(['Nombre departamento'])[['Edad']].describe()\n",
    "cd"
   ]
  },
  {
   "cell_type": "code",
   "execution_count": null,
   "id": "1435083b",
   "metadata": {},
   "outputs": [],
   "source": [
    "cd.columns = cd.columns.droplevel(0)"
   ]
  },
  {
   "cell_type": "code",
   "execution_count": null,
   "id": "8d9e76a7",
   "metadata": {},
   "outputs": [],
   "source": [
    "cd.columns"
   ]
  },
  {
   "cell_type": "code",
   "execution_count": null,
   "id": "dbdfea62",
   "metadata": {},
   "outputs": [],
   "source": [
    "cd['count']"
   ]
  },
  {
   "cell_type": "code",
   "execution_count": null,
   "id": "3aded743",
   "metadata": {},
   "outputs": [],
   "source": [
    "cd.shape"
   ]
  },
  {
   "cell_type": "code",
   "execution_count": null,
   "id": "43c94634",
   "metadata": {},
   "outputs": [],
   "source": [
    "# graficar la cantidad de casos por departamento\n",
    "fig, ax = plt.subplots(figsize=(16,6))\n",
    "ax.bar(x=cd.index, height = cd['count'], color='blue', alpha=0.4)\n",
    "plt.xticks(rotation=45, ha= 'right')\n",
    "plt.show()"
   ]
  },
  {
   "cell_type": "code",
   "execution_count": null,
   "id": "89136dca",
   "metadata": {},
   "outputs": [],
   "source": [
    "# Promedio de edad por departamento\n",
    "fig, ax = plt.subplots(figsize=(16,6))\n",
    "ax.bar(x=cd.index, height = cd['mean'], color='red', alpha=0.4)\n",
    "plt.xticks(rotation=45, ha= 'right')\n",
    "plt.show()"
   ]
  },
  {
   "cell_type": "code",
   "execution_count": null,
   "id": "306c7f88",
   "metadata": {},
   "outputs": [],
   "source": [
    "# Acumulado de Casos por Dia\n",
    "covid"
   ]
  },
  {
   "cell_type": "code",
   "execution_count": null,
   "id": "c2befdba",
   "metadata": {},
   "outputs": [],
   "source": [
    "covid.columns"
   ]
  },
  {
   "cell_type": "code",
   "execution_count": null,
   "id": "fcecae92",
   "metadata": {},
   "outputs": [],
   "source": [
    "for fecha in ['fecha reporte web','Fecha de notificación','Fecha de inicio de síntomas','Fecha de muerte','Fecha de diagnóstico','Fecha de recuperación']:\n",
    "    covid[fecha]= pd.to_datetime(covid[fecha], format='%d/%m/%Y %H:%M:%S')"
   ]
  },
  {
   "cell_type": "code",
   "execution_count": null,
   "id": "cbe583ee",
   "metadata": {},
   "outputs": [],
   "source": [
    "covid.info()"
   ]
  },
  {
   "cell_type": "code",
   "execution_count": null,
   "id": "f60731c6",
   "metadata": {},
   "outputs": [],
   "source": [
    "# Acumulado de casos por dia\n",
    "cf = covid.groupby(['Fecha de diagnóstico'])[['Edad']].describe()\n",
    "cf"
   ]
  },
  {
   "cell_type": "code",
   "execution_count": null,
   "id": "140f674f",
   "metadata": {},
   "outputs": [],
   "source": [
    "cf.columns = cf.columns.droplevel(0)"
   ]
  },
  {
   "cell_type": "code",
   "execution_count": null,
   "id": "392a660a",
   "metadata": {},
   "outputs": [],
   "source": [
    "cf.columns"
   ]
  },
  {
   "cell_type": "code",
   "execution_count": null,
   "id": "a5fccb5a",
   "metadata": {},
   "outputs": [],
   "source": [
    "# Total de casos diagnosticados por dia\n",
    "fig, ax = plt.subplots(figsize=(16,6))\n",
    "ax.plot(cf.index, cf['count'], 'g:', alpha=0.9)\n",
    "ax.set(title = 'Total Pacientes Diagnosticados por dia',\n",
    "       xlabel = 'Fecha',\n",
    "       ylabel = 'Pacientes')\n",
    "plt.xticks(rotation=45, ha= 'right')\n",
    "ax.grid()\n",
    "plt.show()"
   ]
  },
  {
   "cell_type": "code",
   "execution_count": null,
   "id": "9ae9823e",
   "metadata": {},
   "outputs": [],
   "source": [
    "cf['acumulados'] = cf['count'].cumsum()"
   ]
  },
  {
   "cell_type": "code",
   "execution_count": null,
   "id": "0a92b611",
   "metadata": {},
   "outputs": [],
   "source": [
    "# Total de casos diagnosticados por dia\n",
    "fig, ax = plt.subplots(figsize=(16,6))\n",
    "ax.plot(cf.index, cf['acumulados'], 'r.-', alpha=0.9)\n",
    "ax.set(title = 'Pacientes Acumulados Diagnosticados por dia',\n",
    "       xlabel = 'Fechas',\n",
    "       ylabel = 'Acumulado')\n",
    "ax.grid()\n",
    "plt.show()"
   ]
  },
  {
   "cell_type": "code",
   "execution_count": null,
   "id": "7ac100d3",
   "metadata": {},
   "outputs": [],
   "source": []
  }
 ],
 "metadata": {
  "kernelspec": {
   "display_name": "Python 3",
   "language": "python",
   "name": "python3"
  },
  "language_info": {
   "codemirror_mode": {
    "name": "ipython",
    "version": 3
   },
   "file_extension": ".py",
   "mimetype": "text/x-python",
   "name": "python",
   "nbconvert_exporter": "python",
   "pygments_lexer": "ipython3",
   "version": "3.8.10"
  }
 },
 "nbformat": 4,
 "nbformat_minor": 5
}
