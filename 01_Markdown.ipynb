{
 "cells": [
  {
   "cell_type": "markdown",
   "id": "5855e6da",
   "metadata": {},
   "source": [
    "# Learning Jupyter Notebooks"
   ]
  },
  {
   "cell_type": "markdown",
   "id": "3d7739b1",
   "metadata": {},
   "source": [
    "# Títulos\n",
    "\n",
    "Todos los títulos empiezan con signo ```#```\n",
    "\n",
    "# Título 1\n",
    "## Título 2\n",
    "### Título 3\n",
    "#### Título 4\n",
    "##### Título 5\n",
    "###### Título 6"
   ]
  },
  {
   "cell_type": "markdown",
   "id": "2689720d",
   "metadata": {},
   "source": [
    "# Blockquote\n",
    "\n",
    "Los _blockquotes_ se hacen con el signo ```>```\n",
    "\n",
    "> # título del blockquote\n",
    "> Este es el párrafo del blockquote\n",
    ">\n",
    ">> Este es un blockquote anidado\n",
    ">> Tenemos más texto\n",
    ">\n",
    "> ## Segunda Parte\n",
    "> Más texto"
   ]
  },
  {
   "cell_type": "markdown",
   "id": "9dd13f8b",
   "metadata": {},
   "source": [
    "# Énfasis\n",
    "\n",
    "Se pueden poner **negrillas** con doble carácter ```**``` o un ```__```\n",
    "se  pueden poner *italicas*  con solo caracter  ```*``` o un ```_```\n",
    "Se hacer ~~tachado~~ utilizando doble virgulilla ```~~```"
   ]
  },
  {
   "cell_type": "markdown",
   "id": "6f0bf883",
   "metadata": {},
   "source": [
    "# Listas\n",
    "\n",
    "## Ordenadas\n",
    "\n",
    "1. Colores\n",
    "  1. Rojo\n",
    "  2. Azul\n",
    "  3. Amarillo\n",
    "2. Sabores \n",
    "  1. Salado\n",
    "  2. Dulce\n",
    "\n",
    "## No ordenadas\n",
    "\n",
    "* Animales\n",
    "  - Perro\n",
    "  - Gato\n",
    "  - Caiman\n",
    "* Frutas\n",
    "  - Citricos\n",
    "    + Limon\n",
    "    + Naranja\n",
    "    + Toronja\n",
    "  - Manzana\n",
    "  - Pera"
   ]
  },
  {
   "cell_type": "markdown",
   "id": "15afcd35",
   "metadata": {},
   "source": [
    "# Enlaces\n",
    "\n",
    "Un enlace siempre la forma ```[nombre]()\"tooltip\"```\n",
    "\n",
    "### Libros\n",
    "* [Git Book](https://git-scm.com/book/en/v2) 'Offical Books Git'"
   ]
  },
  {
   "cell_type": "markdown",
   "id": "72a62a1e",
   "metadata": {},
   "source": [
    "# Imágenes\n",
    "\n",
    "Las imagenes tienen la forma ```![](url)```\n",
    "\n",
    "![Git](https://git-scm.com/images/logo@2x.png)"
   ]
  },
  {
   "cell_type": "markdown",
   "id": "0bbbf086",
   "metadata": {},
   "source": [
    "# Video"
   ]
  },
  {
   "cell_type": "code",
   "execution_count": null,
   "id": "f1eff415",
   "metadata": {},
   "outputs": [],
   "source": [
    "%%HTML\n",
    "<iframe width=\"560\" height=\"315\" src=\"https://www.youtube.com/embed/ze8ycxc1UzE\" title=\"YouTube video player\" frameborder=\"0\" allow=\"accelerometer; autoplay; clipboard-write; encrypted-media; gyroscope; picture-in-picture\" allowfullscreen></iframe>"
   ]
  },
  {
   "cell_type": "markdown",
   "id": "b5d6a7f3",
   "metadata": {},
   "source": [
    "# Código\n",
    "\n",
    "Utilizar 4 espacios:\n",
    "\n",
    "    frutas = ['pera', 'manzana', 'piña']\n",
    "    for fruta in frutas:\n",
    "        print(fruta)\n",
    "        \n",
    "En un bloque de codigo HTML, los TAGs HTML no tienen efecto:\n",
    "\n",
    "    <html>\n",
    "        <head>\n",
    "            <title>Tituloo</title>\n",
    "        </head>\n",
    "        <body>\n",
    "        </body>\n",
    "    </html>\n",
    "    \n",
    "Tambien se crea un bloque de código con triple comilla invertida y la indico el lenguaje:\n",
    "\n",
    "```python\n",
    "frutas = ['pera', 'manzana', 'piña']\n",
    "    for fruta in frutas:\n",
    "        print(fruta)\n",
    "```\n",
    "        \n",
    "Ejemplo con HTML:\n",
    "\n",
    "```html\n",
    "<html>\n",
    "    <head>\n",
    "        <title>Tituloo</title>\n",
    "    </head>\n",
    "    <body>\n",
    "    </body>\n",
    "</html>\n",
    "```\n",
    "\n",
    "Ejemplo con Javascript:\n",
    "\n",
    "```Java\n",
    "Persona persona = new Persona();\n",
    "Integer num = 1\n",
    "System.out.println(num);\n",
    "```"
   ]
  },
  {
   "cell_type": "markdown",
   "id": "c731f555",
   "metadata": {},
   "source": [
    "# Tablas\n",
    "\n",
    "|Cedula|Nombre|Ciudad|\n",
    "|------|------|------|\n",
    "|113243234|Juana|Cali|\n",
    "|123139232|Angie|Cartago|\n",
    "|123287632|Angie|Bogota|"
   ]
  },
  {
   "cell_type": "markdown",
   "id": "453d3a59",
   "metadata": {},
   "source": [
    "# Comandos\n",
    "\n",
    "Para ejecutar comando se debe utilizar:\n",
    "\n",
    "* Se utiliza para correr el comando en un proceso aparte del actual de Jupyter Notebook   ```!comando``` \n",
    "* Se utiliza para correr el comando en el mismo proceso del Jupyter Notebook  ```%comando```"
   ]
  },
  {
   "cell_type": "code",
   "execution_count": null,
   "id": "8a9937fb",
   "metadata": {},
   "outputs": [],
   "source": [
    "!ls -l"
   ]
  },
  {
   "cell_type": "code",
   "execution_count": null,
   "id": "d92cab55",
   "metadata": {},
   "outputs": [],
   "source": [
    "%ls -l"
   ]
  },
  {
   "cell_type": "code",
   "execution_count": null,
   "id": "e3d2f17d",
   "metadata": {},
   "outputs": [],
   "source": [
    "%lsmagic"
   ]
  },
  {
   "cell_type": "markdown",
   "id": "8ddd8dd1",
   "metadata": {},
   "source": [
    "# Run ```.py``` File"
   ]
  },
  {
   "cell_type": "code",
   "execution_count": null,
   "id": "da2187c8",
   "metadata": {},
   "outputs": [],
   "source": [
    "%run hi.py"
   ]
  }
 ],
 "metadata": {
  "kernelspec": {
   "display_name": "Python 3",
   "language": "python",
   "name": "python3"
  },
  "language_info": {
   "codemirror_mode": {
    "name": "ipython",
    "version": 3
   },
   "file_extension": ".py",
   "mimetype": "text/x-python",
   "name": "python",
   "nbconvert_exporter": "python",
   "pygments_lexer": "ipython3",
   "version": "3.8.8"
  }
 },
 "nbformat": 4,
 "nbformat_minor": 5
}
