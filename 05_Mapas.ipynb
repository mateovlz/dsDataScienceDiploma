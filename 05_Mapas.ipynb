{
 "cells": [
  {
   "cell_type": "markdown",
   "metadata": {},
   "source": [
    "# Mapas\n",
    "\n",
    "[Cartopy](https://scitools.org.uk/cartopy/) es un paquete de Python diseñado para el procesamiento de datos geoespaciales, para su análisis y representación a través de mapas.\n",
    "\n",
    "Cartopy utiliza las librerías [PROJ.4](https://proj.org/), NumPy and [Shapely](https://shapely.readthedocs.io/) e incluye una interfaz basada en Matplotlib para la creación de mapas de alta calidad.\n",
    "\n",
    "Para cada Mapa, lo primero es definir la [proyección](https://bl.ocks.org/syntagmatic/ba569633d51ebec6ec6e), que define un sistema coordenado de referencia ([CCRS](https://scitools.org.uk/cartopy/docs/latest/crs/projections.html): Cartopy Coordinate Reference Systems)."
   ]
  },
  {
   "cell_type": "markdown",
   "metadata": {},
   "source": [
    "### Instalación del módulo Cartopy en AWS/Linux/conda\n",
    "\n",
    "```bash\n",
    "$ conda config --set channel_priority false\n",
    "$ conda update --all --yes\n",
    "$ conda install -c conda-forge cartopy\n",
    "```"
   ]
  },
  {
   "cell_type": "code",
   "execution_count": null,
   "metadata": {},
   "outputs": [],
   "source": [
    "import matplotlib.pyplot as plt\n",
    "import numpy as np\n",
    "\n",
    "%matplotlib inline"
   ]
  },
  {
   "cell_type": "code",
   "execution_count": null,
   "metadata": {},
   "outputs": [],
   "source": [
    "import io\n",
    "from urllib.request import urlopen, Request\n",
    "from PIL import Image"
   ]
  },
  {
   "cell_type": "code",
   "execution_count": null,
   "metadata": {},
   "outputs": [],
   "source": [
    "import cartopy.crs as ccrs\n",
    "import cartopy.feature as cf\n",
    "import cartopy\n",
    "\n",
    "import shapely.geometry as sgeom"
   ]
  },
  {
   "cell_type": "code",
   "execution_count": null,
   "metadata": {},
   "outputs": [],
   "source": [
    "# Crea una nueva figura (usada para el mapa), y la hace activa:\n",
    "plt.figure()\n",
    "# Agregar una nueva ventana (ejes) a la figura, definiendo el tipo de proyección que se utilizará \n",
    "ax = plt.axes(projection = ccrs.InterruptedGoodeHomolosine())\n",
    "# Define que en esta ventana se usen bordes de las costas\n",
    "ax.coastlines()\n",
    "# plt.savefig('coastlines.pdf')  # Grabar el mapa (o en .png) ANTES de plt.show()\n",
    "# Muestra la figura (mapa) embebida en el notebook\n",
    "plt.show()\n",
    "# Cierra la figura, asi se libera la memoria\n",
    "plt.close()"
   ]
  },
  {
   "cell_type": "code",
   "execution_count": null,
   "metadata": {},
   "outputs": [],
   "source": [
    "plt.figure()\n",
    "ax = plt.axes(projection = ccrs.Mollweide())\n",
    "# Define que en esta ventana se usen imágenes \n",
    "# las imágenes son de https://www.naturalearthdata.com/downloads/50m-raster-data/50m-natural-earth-2/\n",
    "ax.coastlines()\n",
    "ax.stock_img()\n",
    "plt.show()\n",
    "plt.close()"
   ]
  },
  {
   "cell_type": "code",
   "execution_count": null,
   "metadata": {},
   "outputs": [],
   "source": [
    "plt.figure()\n",
    "ax = plt.axes(projection = ccrs.PlateCarree(central_longitude = -74))\n",
    "ax.coastlines()\n",
    "\n",
    "plt.show()\n",
    "plt.close()"
   ]
  },
  {
   "cell_type": "code",
   "execution_count": null,
   "metadata": {
    "scrolled": true
   },
   "outputs": [],
   "source": [
    "plt.figure()\n",
    "ax = plt.axes(projection = ccrs.Robinson(central_longitude = -74))\n",
    "ax.stock_img()\n",
    "\n",
    "ax.gridlines(color='black', linestyle='--')\n",
    "\n",
    "plt.show()\n",
    "plt.close()"
   ]
  },
  {
   "cell_type": "code",
   "execution_count": null,
   "metadata": {},
   "outputs": [],
   "source": [
    "# Crea una nueva figura, definiendo un tamaño diferente al default: [6.4, 4.8]\n",
    "plt.figure(figsize = [12, 9])\n",
    "ax = plt.axes(projection = ccrs.PlateCarree())\n",
    "ax.stock_img()\n",
    "\n",
    "cali_lon, cali_lat = -76.59, 3.39\n",
    "roma_lon, roma_lat = 12.39, 41.90\n",
    "paris_lon, paris_lat = 0.96, 50.18\n",
    "monte_lon, monte_lat = -56.41, -34.82\n",
    "\n",
    "plt.plot([cali_lon, roma_lon], [cali_lat, roma_lat], \n",
    "         color = 'red', linewidth = 2, marker = 'o', \n",
    "         transform = ccrs.Geodetic(),\n",
    "         )\n",
    "\n",
    "plt.plot([cali_lon, roma_lon], [cali_lat, roma_lat],\n",
    "         color = 'blue', linewidth = 2, linestyle = '--',\n",
    "         transform = ccrs.PlateCarree(),\n",
    "         )\n",
    "\n",
    "# Cali Montevideo\n",
    "plt.plot([roma_lon, monte_lon], [roma_lat, monte_lat],\n",
    "         color = 'green', linewidth = 2, linestyle = '--',\n",
    "         transform = ccrs.PlateCarree(),\n",
    "         )\n",
    "\n",
    "plt.text(cali_lon - 2, cali_lat - 8, 'Cali',\n",
    "         horizontalalignment = 'right',\n",
    "         transform = ccrs.Geodetic())\n",
    "\n",
    "plt.text(roma_lon + 2, roma_lat - 8, 'Roma',\n",
    "         horizontalalignment = 'left',\n",
    "         transform = ccrs.Geodetic())\n",
    "\n",
    "# Montevideo\n",
    "plt.text(monte_lon + 2, monte_lat - 8, 'Montevideo',\n",
    "         horizontalalignment = 'left',\n",
    "         transform = ccrs.Geodetic())\n",
    "\n",
    "plt.show()"
   ]
  },
  {
   "cell_type": "code",
   "execution_count": null,
   "metadata": {},
   "outputs": [],
   "source": [
    "# Crea una nueva figura, definiendo un tamaño diferente al default: [6.4, 4.8]\n",
    "plt.figure(figsize = [12, 9])\n",
    "ax = plt.axes(projection = ccrs.PlateCarree())\n",
    "ax.stock_img()\n",
    "\n",
    "cali = 3.39, -76.59, \"Cali\" # Lat, Lon\n",
    "roma = 41.90, 12.39, \"Roma\"\n",
    "paris = 50.18, 0.96, \"Paris\"\n",
    "montevideo = -34.82, -56.41, \"Montevideo\"\n",
    "sidney = -35.29, 152.08 , \"Sidney\"\n",
    "\n",
    "def vuelo(cdd1, cdd2, color='blue', align = 'right'):\n",
    "    plt.plot([cdd1[1], cdd2[1]], [cdd1[0], cdd2[0]],\n",
    "         color = color, linewidth = 2, linestyle = '--',\n",
    "         transform = ccrs.PlateCarree(),\n",
    "         )\n",
    "    plt.text(cdd1[1] + 2, cdd1[0] - 8, cdd1[2],\n",
    "         horizontalalignment = align,\n",
    "         transform = ccrs.Geodetic())\n",
    "    plt.text(cdd2[1] + 2, cdd2[0] - 8, cdd2[2],\n",
    "         horizontalalignment = 'left',\n",
    "         transform = ccrs.Geodetic())\n",
    "\n",
    "vuelo(cali,roma)\n",
    "vuelo(montevideo,roma,'green')\n",
    "vuelo(montevideo,paris, 'red')\n",
    "vuelo(sidney,cali,'orange','left')\n",
    "\n",
    "\n",
    "plt.show()"
   ]
  },
  {
   "cell_type": "code",
   "execution_count": null,
   "metadata": {},
   "outputs": [],
   "source": [
    "plt.figure(figsize = (10, 8))\n",
    "ax = plt.axes(projection = ccrs.AlbersEqualArea(-75, 7.5))\n",
    "ax.set_extent([-80, -67, -5, 13])\n",
    "\n",
    "ax.add_feature(cf.COASTLINE)\n",
    "ax.add_feature(cf.LAND, edgecolor = 'black')\n",
    "# ax.add_feature(cf.OCEAN)\n",
    "ax.add_feature(cf.RIVERS)\n",
    "ax.add_feature(cf.BORDERS, linestyle=':')\n",
    "\n",
    "ax.gridlines(draw_labels = True, color = 'black', alpha = 0.5, linestyle = '--')\n",
    "\n",
    "plt.show()\n",
    "plt.close()"
   ]
  },
  {
   "cell_type": "code",
   "execution_count": null,
   "metadata": {
    "scrolled": true
   },
   "outputs": [],
   "source": [
    "plt.figure(figsize = [10, 8])\n",
    "ax = plt.axes(projection = ccrs.PlateCarree())\n",
    "# ax.coastlines()\n",
    "\n",
    "ax.stock_img()\n",
    "ax.set_title(\"Ruta propuesta de Phileas Fogg\")\n",
    "\n",
    "places = {\n",
    "    'londres': [-0.1276474, 51.5073219],\n",
    "    'suez': [32.537086, 29.974498],\n",
    "    'bombay': [72.8882172, 19.1334321],\n",
    "    'calcuta': [88.3476023, 22.5677459],\n",
    "    'hong kong': [114.1628131, 22.2793278],\n",
    "    'yokohama': [139.636768, 35.444991],\n",
    "    'san francisco': [-122.4629897, 37.7647993],\n",
    "    'new york': [-73.9866136, 40.7306458]}\n",
    "\n",
    "destinations = [\n",
    "    'londres', 'suez', 'bombay', 'calcuta', 'hong kong',\n",
    "    'yokohama', 'san francisco', 'new york', 'londres']\n",
    "\n",
    "lons, lats = zip( *[ (places[place][0], places[place][1]) for place in destinations ] )\n",
    "\n",
    "ax.plot(lons, lats,\n",
    "        linestyle = '--', color = 'red', linewidth = 4,\n",
    "        transform = ccrs.Geodetic())\n",
    "\n",
    "plt.show()\n",
    "plt.close()"
   ]
  },
  {
   "cell_type": "code",
   "execution_count": null,
   "metadata": {},
   "outputs": [],
   "source": [
    "lista = [(4,5),(10,40),(90,87)]\n",
    "print(lista)\n",
    "print(*lista)"
   ]
  },
  {
   "cell_type": "code",
   "execution_count": null,
   "metadata": {},
   "outputs": [],
   "source": [
    "ciudades = {\n",
    "    'Arauca': [ -70.7561787, 7.0761716],\n",
    "    'Armenia': [ -75.7155692, 4.5422707],\n",
    "    'Barranquilla': [ -74.8393042, 10.9843155],\n",
    "    'Bogota': [ -74.2057915, 4.6447977],\n",
    "    'Bucaramanga': [ -73.1679976, 7.1192047],\n",
    "    'Cali': [ -76.5957045, 3.3950619],\n",
    "    'Cartagena': [ -75.543545, 10.4001968],\n",
    "    'Cucuta': [ -72.5394401, 7.9087586],\n",
    "    'Florencia': [ -75.6213516, 1.6188689],\n",
    "    'Ibague': [ -75.2217971, 4.4122887],\n",
    "    'Inirida': [ -67.9326713, 3.8682975],\n",
    "    'Leticia': [ -69.9599657, -4.2031648],\n",
    "    'Manizales': [ -75.5536839, 5.0686937],\n",
    "    'Medellin': [ -75.6512524, 6.2441988],\n",
    "    'Mitu': [ -70.2511272, 1.2521739],\n",
    "    'Mocoa': [ -76.6598098, 1.1523405],\n",
    "    'Monteria': [ -75.9169897, 8.7605469],\n",
    "    'Neiva': [ -75.3074082, 2.9376189],\n",
    "    'Pasto': [ -77.3122422, 1.2135252],\n",
    "    'Pereira': [ -75.7487812, 4.8047737],\n",
    "    'Popayan': [ -76.6349537, 2.4573845],\n",
    "    'Puerto Carreno': [ -67.5059717, 6.1847657],\n",
    "    'Quibdo': [ -76.6628026, 5.6956327],\n",
    "    'Riohacha': [ -72.9321659, 11.5344405],\n",
    "    'San Andres': [ -81.7226636, 12.576692],\n",
    "    'San Jose del Guaviare': [ -72.6563816, 2.5693494],\n",
    "    'Santa Marta': [ -74.2174167, 11.2315232],\n",
    "    'Sincelejo': [ -75.429849, 9.2921896],\n",
    "    'Tunja': [ -73.3912607, 5.539293],\n",
    "    'Valledupar': [ -73.2932691, 10.4645041],\n",
    "    'Villavicencio': [ -73.6791009, 4.1247544],\n",
    "    'Yopal': [ -72.4085107, 5.3327952]\n",
    "}"
   ]
  },
  {
   "cell_type": "code",
   "execution_count": null,
   "metadata": {},
   "outputs": [],
   "source": [
    "# Vamos a insertar en el diccionario (Valor), valores aleatorios entre 10 y 25\n",
    "for ciudad, ubicacion in ciudades.items():\n",
    "    ubicacion.append(np.random.randint(10,25))\n",
    "print(ciudades)"
   ]
  },
  {
   "cell_type": "code",
   "execution_count": null,
   "metadata": {},
   "outputs": [],
   "source": [
    "from cartopy.io.img_tiles import Stamen\n",
    "\n",
    "\n",
    "tiler = Stamen('terrain-background')\n",
    "mercator = tiler.crs\n",
    "\n",
    "plt.figure(figsize = (12,16))\n",
    "ax = plt.axes(projection=mercator)\n",
    "ax.set_extent([-90,-67,-5,15])\n",
    "ax.add_image(tiler,6)\n",
    "ax.coastlines('10m')\n",
    "\n",
    "# Pintar las ciudades con sus nombres\n",
    "for ciudad, ubicacion in ciudades.items():\n",
    "    longuitud, latitud, valor = ubicacion\n",
    "    plt.plot(longuitud,\n",
    "             latitud,\n",
    "             color = 'red', \n",
    "             marker='o',\n",
    "             markersize =valor,\n",
    "             alpha = 0.3,\n",
    "             transform = ccrs.PlateCarree(),\n",
    "         )\n",
    "    plt.text(longuitud+ 0.2,\n",
    "             latitud -0.1,\n",
    "             ciudad,\n",
    "             color='black',\n",
    "             transform= ccrs.PlateCarree(),\n",
    "                 \n",
    "    )\n",
    "\n",
    "plt.show()\n",
    "plt.close()"
   ]
  },
  {
   "cell_type": "code",
   "execution_count": null,
   "metadata": {},
   "outputs": [],
   "source": []
  }
 ],
 "metadata": {
  "kernelspec": {
   "display_name": "Python 3",
   "language": "python",
   "name": "python3"
  },
  "language_info": {
   "codemirror_mode": {
    "name": "ipython",
    "version": 3
   },
   "file_extension": ".py",
   "mimetype": "text/x-python",
   "name": "python",
   "nbconvert_exporter": "python",
   "pygments_lexer": "ipython3",
   "version": "3.8.10"
  }
 },
 "nbformat": 4,
 "nbformat_minor": 4
}
